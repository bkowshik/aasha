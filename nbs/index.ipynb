{
 "cells": [
  {
   "cell_type": "code",
   "execution_count": null,
   "metadata": {},
   "outputs": [],
   "source": [
    "#| hide\n",
    "from aasha.fifa import *"
   ]
  },
  {
   "cell_type": "markdown",
   "metadata": {},
   "source": [
    "# aasha\n"
   ]
  },
  {
   "cell_type": "markdown",
   "metadata": {},
   "source": [
    "Aasha is a beautiful Hindi and Sanskrit word that means hope, desire, or aspiration. It conveys a sense of optimism, longing, and expectation for something better in the future. In a broader, poetic sense, Aasha can represent:\n",
    "\n",
    "- Hope for a brighter future.\n",
    "- A heartfelt wish or yearning.\n",
    "- An unfulfilled desire or small dream that keeps one motivated.\n"
   ]
  },
  {
   "cell_type": "markdown",
   "metadata": {},
   "source": [
    "### India Men\\'s National Football Team\n",
    "\n",
    "![](../images/asha_men.png)\n"
   ]
  },
  {
   "cell_type": "markdown",
   "metadata": {},
   "source": [
    "### India Women\\'s National Football Team\n",
    "\n",
    "![](../images/asha_women.png)\n"
   ]
  },
  {
   "cell_type": "markdown",
   "metadata": {},
   "source": []
  }
 ],
 "metadata": {
  "kernelspec": {
   "display_name": "python3",
   "language": "python",
   "name": "python3"
  }
 },
 "nbformat": 4,
 "nbformat_minor": 4
}
