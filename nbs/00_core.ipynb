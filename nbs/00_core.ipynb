{
 "cells": [
  {
   "cell_type": "markdown",
   "metadata": {},
   "source": [
    "# FIFA\n",
    "\n",
    "> Process data from FIFA.\n"
   ]
  },
  {
   "cell_type": "code",
   "execution_count": null,
   "metadata": {},
   "outputs": [],
   "source": [
    "#| default_exp fifa"
   ]
  },
  {
   "cell_type": "code",
   "execution_count": null,
   "metadata": {},
   "outputs": [
    {
     "name": "stderr",
     "output_type": "stream",
     "text": [
      "/Users/bkowshik/Library/Python/3.9/lib/python/site-packages/urllib3/__init__.py:34: NotOpenSSLWarning: urllib3 v2 only supports OpenSSL 1.1.1+, currently the 'ssl' module is compiled with 'LibreSSL 2.8.3'. See: https://github.com/urllib3/urllib3/issues/3020\n",
      "  warnings.warn(\n"
     ]
    }
   ],
   "source": [
    "#| hide\n",
    "import requests\n",
    "import json\n",
    "\n",
    "from nbdev.showdoc import *"
   ]
  },
  {
   "cell_type": "code",
   "execution_count": null,
   "metadata": {},
   "outputs": [],
   "source": [
    "#| export\n",
    "def fetch_fifa_rankings(gender):\n",
    "    headers = {'User-Agent': 'Mozilla/5.0 (Windows NT 10.0; Win64; x64) AppleWebKit/537.36 (KHTML, like Gecko) Chrome/91.0.4472.124 Safari/537.36'}\n",
    "\n",
    "    if gender == 'men':\n",
    "        url = 'https://inside.fifa.com/api/ranking-overview?locale=en&dateId=id14597&rankingType=football'\n",
    "    else:\n",
    "        url = 'https://inside.fifa.com/api/ranking-overview?locale=en&dateId=ranking_20250306&rankingType=football'\n",
    "\n",
    "    response = requests.get(url, headers = headers)\n",
    "    if response.status_code == 200:\n",
    "        data = response.json()\n",
    "        return data\n",
    "    else:\n",
    "        print('Error fetching data: ', response.status_code)\n",
    "        return None"
   ]
  },
  {
   "cell_type": "code",
   "execution_count": null,
   "metadata": {},
   "outputs": [],
   "source": [
    "#| export\n",
    "def write_fifa_rankings(rankings, filepath):\n",
    "    with open(filepath, 'w') as f:\n",
    "        json.dump(rankings, f, indent=4)"
   ]
  },
  {
   "cell_type": "code",
   "execution_count": null,
   "metadata": {},
   "outputs": [],
   "source": [
    "#| export\n",
    "def parse_fifa_rankings(rankings, country = 'India'):\n",
    "    rank = [item for item in rankings['rankings'] if item['rankingItem']['name'] == country][0]\n",
    "    return rank"
   ]
  },
  {
   "cell_type": "markdown",
   "metadata": {},
   "source": [
    "### Men's World Ranking\n"
   ]
  },
  {
   "cell_type": "code",
   "execution_count": null,
   "metadata": {},
   "outputs": [
    {
     "data": {
      "text/plain": [
       "{'rankingItem': {'idTeam': '43815',\n",
       "  'rank': 126,\n",
       "  'flag': {'src': 'https://api.fifa.com/api/v3/picture/flags-sq-2/IND',\n",
       "   'width': 70,\n",
       "   'height': 46,\n",
       "   'title': 'India',\n",
       "   'alt': 'India'},\n",
       "  'name': 'India',\n",
       "  'totalPoints': 1133.62,\n",
       "  'active': False,\n",
       "  'previousRank': 127,\n",
       "  'countryURL': '/fifa-world-ranking/IND',\n",
       "  'countryCode': 'IND'},\n",
       " 'previousPoints': 1133.62,\n",
       " 'lastUpdateDate': '2024-12-19T08:50:00+00:00',\n",
       " 'nextUpdateDate': None,\n",
       " 'tag': {'id': 'AFC', 'text': 'AFC'}}"
      ]
     },
     "execution_count": null,
     "metadata": {},
     "output_type": "execute_result"
    }
   ],
   "source": [
    "response = fetch_fifa_rankings(gender = 'men')\n",
    "write_fifa_rankings(response, '../data/fifa_rankings_men.json')\n",
    "parse_fifa_rankings(response, country = 'India')"
   ]
  },
  {
   "cell_type": "markdown",
   "metadata": {},
   "source": [
    "### Women's World Ranking\n"
   ]
  },
  {
   "cell_type": "code",
   "execution_count": null,
   "metadata": {},
   "outputs": [
    {
     "data": {
      "text/plain": [
       "{'rankingItem': {'idTeam': '1885024',\n",
       "  'rank': 69,\n",
       "  'flag': {'src': 'https://api.fifa.com/api/v3/picture/flags-sq-2/IND',\n",
       "   'width': 70,\n",
       "   'height': 46,\n",
       "   'title': 'India',\n",
       "   'alt': 'India'},\n",
       "  'name': 'India',\n",
       "  'totalPoints': 1378.44,\n",
       "  'active': False,\n",
       "  'previousRank': 69,\n",
       "  'countryURL': '/fifa-world-ranking/IND',\n",
       "  'countryCode': 'IND'},\n",
       " 'previousPoints': 1374.66,\n",
       " 'lastUpdateDate': '2025-03-06T08:50:00Z',\n",
       " 'nextUpdateDate': None,\n",
       " 'tag': {'id': 'AFC', 'text': 'AFC'}}"
      ]
     },
     "execution_count": null,
     "metadata": {},
     "output_type": "execute_result"
    }
   ],
   "source": [
    "response = fetch_fifa_rankings(gender = 'women')\n",
    "write_fifa_rankings(response, '../data/fifa_rankings_women.json')\n",
    "parse_fifa_rankings(response, country = 'India')"
   ]
  },
  {
   "cell_type": "code",
   "execution_count": null,
   "metadata": {},
   "outputs": [],
   "source": [
    "#| hide\n",
    "import nbdev; nbdev.nbdev_export()"
   ]
  }
 ],
 "metadata": {
  "kernelspec": {
   "display_name": "python3",
   "language": "python",
   "name": "python3"
  }
 },
 "nbformat": 4,
 "nbformat_minor": 4
}
